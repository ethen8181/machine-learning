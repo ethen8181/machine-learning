{
 "cells": [
  {
   "cell_type": "code",
   "execution_count": 2,
   "id": "34cee8ad-f3f8-479e-8fe2-d3d3b7207a17",
   "metadata": {},
   "outputs": [
    {
     "name": "stdout",
     "output_type": "stream",
     "text": [
      "Author: Ethen\n",
      "\n",
      "Last updated: 2025-06-27\n",
      "\n",
      "Python implementation: CPython\n",
      "Python version       : 3.11.11\n",
      "IPython version      : 8.32.0\n",
      "\n",
      "transformers: 4.51.3\n",
      "torch       : 2.6.0\n",
      "numpy       : 1.26.4\n",
      "pandas      : 2.2.3\n",
      "ray         : 2.46.0\n",
      "vllm        : 0.8.5\n",
      "\n"
     ]
    }
   ],
   "source": [
    "%load_ext watermark\n",
    "%load_ext autoreload\n",
    "%autoreload 2\n",
    "\n",
    "import os\n",
    "import ray\n",
    "import torch\n",
    "import logging\n",
    "import pandas as pd\n",
    "from ray.util.placement_group import (\n",
    "    placement_group,\n",
    "    placement_group_table,\n",
    "    remove_placement_group,\n",
    ")\n",
    "from ray.util.scheduling_strategies import PlacementGroupSchedulingStrategy\n",
    "from vllm import LLM, SamplingParams\n",
    "\n",
    "%watermark -a 'Ethen' -d -v -u -p transformers,torch,numpy,pandas,ray,vllm"
   ]
  },
  {
   "cell_type": "markdown",
   "id": "321df1ee-f9d7-4eb9-955f-aa4c9fbbde00",
   "metadata": {},
   "source": [
    "# LLM Batch Inference with Ray and VLLM"
   ]
  },
  {
   "cell_type": "markdown",
   "id": "8eadc1d4-bff1-4aef-a0c3-109261714ff9",
   "metadata": {},
   "source": [
    "This article builds towards a minimal LLM batch inference pipeline. We'll give a quick introduction to ray, VLLM, as well as tensor parallelism as part of this process before putting every piece of the building blocks together into the final solution."
   ]
  },
  {
   "cell_type": "markdown",
   "id": "f3cd7100-b410-4261-933e-c4fc4c20622d",
   "metadata": {},
   "source": [
    "## Quick Introduction to Ray"
   ]
  },
  {
   "cell_type": "code",
   "execution_count": 3,
   "id": "109afbbf-565f-4ddb-bb7b-d82b8c349013",
   "metadata": {},
   "outputs": [
    {
     "name": "stderr",
     "output_type": "stream",
     "text": [
      "2025-06-17 00:36:27,157\tINFO worker.py:1879 -- Started a local Ray instance. View the dashboard at \u001b[1m\u001b[32mhttp://127.0.0.1:8265 \u001b[39m\u001b[22m\n"
     ]
    },
    {
     "data": {
      "text/html": [
       "<div class=\"lm-Widget p-Widget lm-Panel p-Panel jp-Cell-outputWrapper\">\n",
       "    <div style=\"margin-left: 50px;display: flex;flex-direction: row;align-items: center\">\n",
       "        <div class=\"jp-RenderedHTMLCommon\" style=\"display: flex; flex-direction: row;\">\n",
       "  <svg viewBox=\"0 0 567 224\" fill=\"none\" xmlns=\"http://www.w3.org/2000/svg\" style=\"height: 3em;\">\n",
       "    <g clip-path=\"url(#clip0_4338_178347)\">\n",
       "        <path d=\"M341.29 165.561H355.29L330.13 129.051C345.63 123.991 354.21 112.051 354.21 94.2307C354.21 71.3707 338.72 58.1807 311.88 58.1807H271V165.561H283.27V131.661H311.8C314.25 131.661 316.71 131.501 319.01 131.351L341.25 165.561H341.29ZM283.29 119.851V70.0007H311.82C331.3 70.0007 342.34 78.2907 342.34 94.5507C342.34 111.271 331.34 119.861 311.82 119.861L283.29 119.851ZM451.4 138.411L463.4 165.561H476.74L428.74 58.1807H416L367.83 165.561H380.83L392.83 138.411H451.4ZM446.19 126.601H398L422 72.1407L446.24 126.601H446.19ZM526.11 128.741L566.91 58.1807H554.35L519.99 114.181L485.17 58.1807H472.44L514.01 129.181V165.541H526.13V128.741H526.11Z\" fill=\"var(--jp-ui-font-color0)\"/>\n",
       "        <path d=\"M82.35 104.44C84.0187 97.8827 87.8248 92.0678 93.1671 87.9146C98.5094 83.7614 105.083 81.5067 111.85 81.5067C118.617 81.5067 125.191 83.7614 130.533 87.9146C135.875 92.0678 139.681 97.8827 141.35 104.44H163.75C164.476 101.562 165.622 98.8057 167.15 96.2605L127.45 56.5605C121.071 60.3522 113.526 61.6823 106.235 60.3005C98.9443 58.9187 92.4094 54.9203 87.8602 49.0574C83.3109 43.1946 81.0609 35.8714 81.5332 28.4656C82.0056 21.0599 85.1679 14.0819 90.4252 8.8446C95.6824 3.60726 102.672 0.471508 110.08 0.0272655C117.487 -0.416977 124.802 1.86091 130.647 6.4324C136.493 11.0039 140.467 17.5539 141.821 24.8501C143.175 32.1463 141.816 39.6859 138 46.0505L177.69 85.7505C182.31 82.9877 187.58 81.4995 192.962 81.4375C198.345 81.3755 203.648 82.742 208.33 85.3976C213.012 88.0532 216.907 91.9029 219.616 96.5544C222.326 101.206 223.753 106.492 223.753 111.875C223.753 117.258 222.326 122.545 219.616 127.197C216.907 131.848 213.012 135.698 208.33 138.353C203.648 141.009 198.345 142.375 192.962 142.313C187.58 142.251 182.31 140.763 177.69 138L138 177.7C141.808 184.071 143.155 191.614 141.79 198.91C140.424 206.205 136.44 212.75 130.585 217.313C124.731 221.875 117.412 224.141 110.004 223.683C102.596 223.226 95.6103 220.077 90.3621 214.828C85.1139 209.58 81.9647 202.595 81.5072 195.187C81.0497 187.779 83.3154 180.459 87.878 174.605C92.4405 168.751 98.9853 164.766 106.281 163.401C113.576 162.035 121.119 163.383 127.49 167.19L167.19 127.49C165.664 124.941 164.518 122.182 163.79 119.3H141.39C139.721 125.858 135.915 131.673 130.573 135.826C125.231 139.98 118.657 142.234 111.89 142.234C105.123 142.234 98.5494 139.98 93.2071 135.826C87.8648 131.673 84.0587 125.858 82.39 119.3H60C58.1878 126.495 53.8086 132.78 47.6863 136.971C41.5641 141.163 34.1211 142.972 26.7579 142.059C19.3947 141.146 12.6191 137.574 7.70605 132.014C2.79302 126.454 0.0813599 119.29 0.0813599 111.87C0.0813599 104.451 2.79302 97.2871 7.70605 91.7272C12.6191 86.1673 19.3947 82.5947 26.7579 81.6817C34.1211 80.7686 41.5641 82.5781 47.6863 86.7696C53.8086 90.9611 58.1878 97.2456 60 104.44H82.35ZM100.86 204.32C103.407 206.868 106.759 208.453 110.345 208.806C113.93 209.159 117.527 208.258 120.522 206.256C123.517 204.254 125.725 201.276 126.771 197.828C127.816 194.38 127.633 190.677 126.253 187.349C124.874 184.021 122.383 181.274 119.205 179.577C116.027 177.88 112.359 177.337 108.826 178.042C105.293 178.746 102.113 180.654 99.8291 183.44C97.5451 186.226 96.2979 189.718 96.3 193.32C96.2985 195.364 96.7006 197.388 97.4831 199.275C98.2656 201.163 99.4132 202.877 100.86 204.32ZM204.32 122.88C206.868 120.333 208.453 116.981 208.806 113.396C209.159 109.811 208.258 106.214 206.256 103.219C204.254 100.223 201.275 98.0151 197.827 96.97C194.38 95.9249 190.676 96.1077 187.348 97.4873C184.02 98.8669 181.274 101.358 179.577 104.536C177.879 107.714 177.337 111.382 178.041 114.915C178.746 118.448 180.653 121.627 183.439 123.911C186.226 126.195 189.717 127.443 193.32 127.44C195.364 127.443 197.388 127.042 199.275 126.259C201.163 125.476 202.878 124.328 204.32 122.88ZM122.88 19.4205C120.333 16.8729 116.981 15.2876 113.395 14.9347C109.81 14.5817 106.213 15.483 103.218 17.4849C100.223 19.4868 98.0146 22.4654 96.9696 25.9131C95.9245 29.3608 96.1073 33.0642 97.4869 36.3922C98.8665 39.7202 101.358 42.4668 104.535 44.1639C107.713 45.861 111.381 46.4036 114.914 45.6992C118.447 44.9949 121.627 43.0871 123.911 40.301C126.195 37.515 127.442 34.0231 127.44 30.4205C127.44 28.3772 127.038 26.3539 126.255 24.4664C125.473 22.5788 124.326 20.8642 122.88 19.4205ZM19.42 100.86C16.8725 103.408 15.2872 106.76 14.9342 110.345C14.5813 113.93 15.4826 117.527 17.4844 120.522C19.4863 123.518 22.4649 125.726 25.9127 126.771C29.3604 127.816 33.0638 127.633 36.3918 126.254C39.7198 124.874 42.4664 122.383 44.1635 119.205C45.8606 116.027 46.4032 112.359 45.6988 108.826C44.9944 105.293 43.0866 102.114 40.3006 99.8296C37.5145 97.5455 34.0227 96.2983 30.42 96.3005C26.2938 96.3018 22.337 97.9421 19.42 100.86ZM100.86 100.86C98.3125 103.408 96.7272 106.76 96.3742 110.345C96.0213 113.93 96.9226 117.527 98.9244 120.522C100.926 123.518 103.905 125.726 107.353 126.771C110.8 127.816 114.504 127.633 117.832 126.254C121.16 124.874 123.906 122.383 125.604 119.205C127.301 116.027 127.843 112.359 127.139 108.826C126.434 105.293 124.527 102.114 121.741 99.8296C118.955 97.5455 115.463 96.2983 111.86 96.3005C109.817 96.299 107.793 96.701 105.905 97.4835C104.018 98.2661 102.303 99.4136 100.86 100.86Z\" fill=\"#00AEEF\"/>\n",
       "    </g>\n",
       "    <defs>\n",
       "        <clipPath id=\"clip0_4338_178347\">\n",
       "            <rect width=\"566.93\" height=\"223.75\" fill=\"white\"/>\n",
       "        </clipPath>\n",
       "    </defs>\n",
       "  </svg>\n",
       "</div>\n",
       "\n",
       "        <table class=\"jp-RenderedHTMLCommon\" style=\"border-collapse: collapse;color: var(--jp-ui-font-color1);font-size: var(--jp-ui-font-size1);\">\n",
       "    <tr>\n",
       "        <td style=\"text-align: left\"><b>Python version:</b></td>\n",
       "        <td style=\"text-align: left\"><b>3.11.11</b></td>\n",
       "    </tr>\n",
       "    <tr>\n",
       "        <td style=\"text-align: left\"><b>Ray version:</b></td>\n",
       "        <td style=\"text-align: left\"><b>2.46.0</b></td>\n",
       "    </tr>\n",
       "    <tr>\n",
       "    <td style=\"text-align: left\"><b>Dashboard:</b></td>\n",
       "    <td style=\"text-align: left\"><b><a href=\"http://127.0.0.1:8265\" target=\"_blank\">http://127.0.0.1:8265</a></b></td>\n",
       "</tr>\n",
       "\n",
       "</table>\n",
       "\n",
       "    </div>\n",
       "</div>\n"
      ],
      "text/plain": [
       "RayContext(dashboard_url='127.0.0.1:8265', python_version='3.11.11', ray_version='2.46.0', ray_commit='c3dd2ca0c2a24ddf327a213d2e936bd4eaa4ca0a')"
      ]
     },
     "execution_count": 3,
     "metadata": {},
     "output_type": "execute_result"
    }
   ],
   "source": [
    "# Create a single node Ray cluster pre-defined resources.\n",
    "ray.init(\n",
    "    num_cpus=8,\n",
    "    num_gpus=4,\n",
    "    # avoid polluting notebook with log info\n",
    "    log_to_driver=False,\n",
    ")"
   ]
  },
  {
   "cell_type": "markdown",
   "id": "908c76ee-e1c0-47cf-ac22-d38253c72a6c",
   "metadata": {},
   "source": [
    "Ray enables arbitrary functions to be executed asynchronously on separate Python workers. Such functions are called Ray remote functions and their asynchronous invocations are called Ray tasks."
   ]
  },
  {
   "cell_type": "code",
   "execution_count": 4,
   "id": "da6d7f12-f820-4530-9652-28a494bd6b90",
   "metadata": {},
   "outputs": [],
   "source": [
    "# By adding the `@ray.remote` decorator, a regular Python function\n",
    "# becomes a Ray remote function\n",
    "@ray.remote\n",
    "def my_function():\n",
    "    return 1\n",
    "\n",
    "# To invoke this remote function, use the `remote` method.\n",
    "# This will immediately return an object ref (a future) and then create\n",
    "# a task that will be executed on a worker process.\n",
    "# This call is non-blocking\n",
    "obj_ref = my_function.remote()\n",
    "\n",
    "# The result can be retrieved with ``ray.get``.\n",
    "assert ray.get(obj_ref) == 1"
   ]
  },
  {
   "cell_type": "markdown",
   "id": "3bb4d4d7-17ca-4867-bb17-b1e5da1eefe0",
   "metadata": {},
   "source": [
    "Actors extend Ray API from functions (tasks) to classes. An actor is essentially a stateful worker"
   ]
  },
  {
   "cell_type": "code",
   "execution_count": 5,
   "id": "f05e3f20-7343-49bc-87c5-fe060d0faad0",
   "metadata": {},
   "outputs": [],
   "source": [
    "# The ray.remote decorator indicates that instances of the Counter class are actors\n",
    "# We can specify resource requirements as part remote\n",
    "@ray.remote(num_cpus=1, num_gpus=1)\n",
    "class Counter:\n",
    "    def __init__(self):\n",
    "        self.value = 0\n",
    "\n",
    "    def increment(self):\n",
    "        self.value += 1\n",
    "        return self.value\n",
    "\n",
    "    def get_counter(self):\n",
    "        return self.value\n",
    "\n",
    "\n",
    "# Create an actor from this class.\n",
    "counter = Counter.remote()\n",
    "# Call the actor.\n",
    "obj_ref = counter.increment.remote()\n",
    "assert ray.get(obj_ref) == 1"
   ]
  },
  {
   "cell_type": "markdown",
   "id": "8ab8eed3-1442-45c7-9f27-f19feab479b5",
   "metadata": {},
   "source": [
    "Ray's placement group can be used to reserve group of resouces across nodes. e.g. In distributed hyper parameter tuning, we must ensure all the resources needed for a given trial is made available at the same time, and packed resources required together, so node failures have minimal impact.\n",
    "\n",
    "While creating these resource bundles, `strategy` allows us to specify whether these resources should be created to spread out on multiple nodes `STRICT_SPREAD` or have to be created within the same node `STRICT_PACK`.\n",
    "\n",
    "We can schedule ray actors or tasks to a placement group once it has been created."
   ]
  },
  {
   "cell_type": "code",
   "execution_count": 6,
   "id": "3dd45ce4-86e1-4dd4-9c63-39e56b49028b",
   "metadata": {},
   "outputs": [
    {
     "name": "stdout",
     "output_type": "stream",
     "text": [
      "{'placement_group_id': '3ebe34c338652490a05ba98f0ec501000000', 'name': '', 'bundles': {0: {'CPU': 1.0, 'GPU': 1.0}}, 'bundles_to_node_id': {0: 'ab8f683a5b2ed845357850df3db9de9f807e15ed5ebbdbbdb8cc5bba'}, 'strategy': 'STRICT_PACK', 'state': 'CREATED', 'stats': {'end_to_end_creation_latency_ms': 1.641, 'scheduling_latency_ms': 1.568, 'scheduling_attempt': 1, 'highest_retry_delay_ms': 0.0, 'scheduling_state': 'FINISHED'}}\n"
     ]
    }
   ],
   "source": [
    "# a bundle is a collection of resources e.g. 1 CPU and 1 GPU,\n",
    "# and placement group are represented by a list of bundles\n",
    "pg = placement_group([{\"CPU\": 1, \"GPU\": 1}], strategy=\"STRICT_PACK\")\n",
    "ray.get(pg.ready())\n",
    "\n",
    "# we can show placement group info through placement_group_table API\n",
    "print(placement_group_table(pg))"
   ]
  },
  {
   "cell_type": "code",
   "execution_count": 7,
   "id": "fbf7b455-654a-499e-8568-0617e0c9ac81",
   "metadata": {},
   "outputs": [],
   "source": [
    "# Create an actor to a placement group.\n",
    "counter = Counter.options(\n",
    "    scheduling_strategy=PlacementGroupSchedulingStrategy(\n",
    "        placement_group=pg,\n",
    "        placement_group_bundle_index=0\n",
    "    )\n",
    ").remote()\n",
    "obj_ref = counter.increment.remote()\n",
    "assert ray.get(obj_ref) == 1"
   ]
  },
  {
   "cell_type": "code",
   "execution_count": 8,
   "id": "cb7a19f4-b302-401a-bd04-c077ca872e00",
   "metadata": {},
   "outputs": [
    {
     "name": "stdout",
     "output_type": "stream",
     "text": [
      "{'placement_group_id': '3ebe34c338652490a05ba98f0ec501000000', 'name': '', 'bundles': {0: {'CPU': 1.0, 'GPU': 1.0}}, 'bundles_to_node_id': {0: 'ab8f683a5b2ed845357850df3db9de9f807e15ed5ebbdbbdb8cc5bba'}, 'strategy': 'STRICT_PACK', 'state': 'REMOVED', 'stats': {'end_to_end_creation_latency_ms': 1.641, 'scheduling_latency_ms': 1.568, 'scheduling_attempt': 1, 'highest_retry_delay_ms': 0.0, 'scheduling_state': 'REMOVED'}}\n"
     ]
    }
   ],
   "source": [
    "remove_placement_group(pg)\n",
    "print(placement_group_table(pg))"
   ]
  },
  {
   "cell_type": "markdown",
   "id": "e82f9531-11d2-4588-a644-b81e1e187280",
   "metadata": {},
   "source": [
    "## Quick Introduction to vLLM"
   ]
  },
  {
   "cell_type": "markdown",
   "id": "37351cef-5892-4c79-b3f9-ae051848bce0",
   "metadata": {},
   "source": [
    "When interacting with vLLM, `LLM` is the main class for initiating vLLM engine, `SamplingParams` defines various parameters for the sampling process."
   ]
  },
  {
   "cell_type": "code",
   "execution_count": 10,
   "id": "38e68fd5-c0f2-41c5-b079-1f0242a55abe",
   "metadata": {},
   "outputs": [
    {
     "name": "stdout",
     "output_type": "stream",
     "text": [
      "INFO 06-17 00:37:18 [chat_utils.py:397] Detected the chat template content format to be 'string'. You can set `--chat-template-content-format` to override this.\n"
     ]
    },
    {
     "name": "stderr",
     "output_type": "stream",
     "text": [
      "Processed prompts: 100%|██████████| 1/1 [00:00<00:00,  1.10it/s, est. speed input: 42.93 toks/s, output: 151.91 toks/s]\n"
     ]
    },
    {
     "data": {
      "text/plain": [
       "[RequestOutput(request_id=0, prompt=None, prompt_token_ids=[151644, 8948, 198, 2610, 525, 1207, 16948, 11, 3465, 553, 54364, 14817, 13, 1446, 525, 264, 10950, 17847, 13, 151645, 198, 151644, 872, 198, 35127, 752, 264, 2805, 16800, 311, 3460, 4128, 1614, 13, 151645, 198, 151644, 77091, 198], encoder_prompt=None, encoder_prompt_token_ids=None, prompt_logprobs=None, outputs=[CompletionOutput(index=0, text='A large language model, also known as a Language Generation Model, is a type of deep learning model that can generate text or language-like outputs. These models are designed to be able to generate coherent and contextually relevant text based on language rules and statistical patterns observed in language data.\\nIn recent years, the field of large language models has grown rapidly, with the development of models such as BERT, GPT, and Transformers. These models have been used for a wide range of tasks, including machine translation, text generation, language modeling, and more. Today, large language models are being used in a variety of applications, including chatbots, virtual assistants, and content creation tools.', token_ids=[32, 3460, 4128, 1614, 11, 1083, 3881, 438, 264, 11434, 23470, 4903, 11, 374, 264, 943, 315, 5538, 6832, 1614, 429, 646, 6923, 1467, 476, 4128, 12681, 16275, 13, 4220, 4119, 525, 6188, 311, 387, 2952, 311, 6923, 55787, 323, 2266, 1832, 9760, 1467, 3118, 389, 4128, 5601, 323, 28464, 12624, 13166, 304, 4128, 821, 624, 641, 3213, 1635, 11, 279, 2070, 315, 3460, 4128, 4119, 702, 14700, 18512, 11, 448, 279, 4401, 315, 4119, 1741, 438, 425, 3399, 11, 479, 2828, 11, 323, 80532, 13, 4220, 4119, 614, 1012, 1483, 369, 264, 6884, 2088, 315, 9079, 11, 2670, 5662, 14468, 11, 1467, 9471, 11, 4128, 33479, 11, 323, 803, 13, 11201, 11, 3460, 4128, 4119, 525, 1660, 1483, 304, 264, 8045, 315, 8357, 11, 2670, 6236, 61905, 11, 4108, 56519, 11, 323, 2213, 9688, 7375, 13, 151645], cumulative_logprob=None, logprobs=None, finish_reason=stop, stop_reason=None)], finished=True, metrics=None, lora_request=None, num_cached_tokens=None, multi_modal_placeholders={})]"
      ]
     },
     "execution_count": 10,
     "metadata": {},
     "output_type": "execute_result"
    }
   ],
   "source": [
    "# we expect our model to be a modern instruct version that takes in chat message \n",
    "messages = [\n",
    "    {\"role\": \"user\", \"content\": \"Give me a short introduction to large language model.\"}\n",
    "]\n",
    "sampling_params = SamplingParams(n=1, max_tokens=512)\n",
    "# we invoke chat method, compared to generate, it automatically applies\n",
    "# the model's corresponding chat template\n",
    "request_outputs = llm.chat(messages, sampling_params)\n",
    "request_outputs"
   ]
  },
  {
   "cell_type": "markdown",
   "id": "84a5f028-71ab-4993-bfce-aecb77840559",
   "metadata": {},
   "source": [
    "Given its output class, we will only parse out the generated text/response, as well as finish_reason. Finish reason can be useful for determining whether we are setting appropriate max generation token limit, i.e. prevent cropping model's unfinished response."
   ]
  },
  {
   "cell_type": "code",
   "execution_count": 11,
   "id": "aba7070f-bf54-4ced-b129-10d9a4b18277",
   "metadata": {},
   "outputs": [
    {
     "data": {
      "text/plain": [
       "{'generated_texts': ['A large language model, also known as a Language Generation Model, is a type of deep learning model that can generate text or language-like outputs. These models are designed to be able to generate coherent and contextually relevant text based on language rules and statistical patterns observed in language data.\\nIn recent years, the field of large language models has grown rapidly, with the development of models such as BERT, GPT, and Transformers. These models have been used for a wide range of tasks, including machine translation, text generation, language modeling, and more. Today, large language models are being used in a variety of applications, including chatbots, virtual assistants, and content creation tools.'],\n",
       " 'finished_reasons': ['stop']}"
      ]
     },
     "execution_count": 11,
     "metadata": {},
     "output_type": "execute_result"
    }
   ],
   "source": [
    "request_output = request_outputs[0]\n",
    "finished_reasons = []\n",
    "generated_texts = []\n",
    "for request_output in request_outputs:\n",
    "    # we assume only sampling 1 output\n",
    "    output = request_output.outputs[0]\n",
    "    generated_texts.append(output.text)\n",
    "    finished_reasons.append(output.finish_reason)\n",
    "\n",
    "predictions = {\n",
    "    \"generated_texts\": generated_texts,\n",
    "    \"finished_reasons\": finished_reasons\n",
    "}\n",
    "predictions"
   ]
  },
  {
   "cell_type": "code",
   "execution_count": 12,
   "id": "7c9d048d-579f-437f-9eba-1b0bedfe92cd",
   "metadata": {},
   "outputs": [],
   "source": [
    "del llm"
   ]
  },
  {
   "cell_type": "markdown",
   "id": "4f118382-b122-4e76-a2fa-c789aa036474",
   "metadata": {},
   "source": [
    "## Quick Introduction to Tensor Parallelism"
   ]
  },
  {
   "cell_type": "markdown",
   "id": "d3647d1f-4351-4428-945e-6b0d065b44db",
   "metadata": {},
   "source": [
    "The following diagrams are directly copied from pytorch lightning's tensor parallelism illustration [[3]](https://lightning.ai/docs/pytorch/stable/advanced/model_parallel/tp.html)\n",
    "\n",
    "Data parallel is the most common form of parallelism due to its simplicity. Our model will be replicated across each device, and process data shards in parallel. Tensor parallelism is a form of model parallel technique used for large-scale models by distributing layers across multiple devices. This approach significantly reduces memory requirements per device, as each device only needs to store and process a portion of the weight matrix. There're two ways in which a linear layer can be distributed: column-wise or row-wise.\n",
    "\n",
    "**Column-wise Parallelism:**\n",
    "\n",
    "<img src=\"imgs/tp_col.png\" width=\"60%\" height=\"60%\">\n",
    "\n",
    "- Weight matrix is divided evenly along the column dimension.\n",
    "- Each device receives identical input and performs a matrix multiplication with its allocated portion of the weight matrix.\n",
    "- Final output is formed by concatenating results from all devices.\n",
    "\n",
    "**Row-wise Parallelism:**\n",
    "\n",
    "<img src=\"imgs/tp_row.png\" width=\"60%\" height=\"60%\">\n",
    "\n",
    "- Row-wise parallelism divides rows of the weight matrix evenly across devices. Given the weight matrix now has fewer rows, input also needs to be split along the inner dimension.\n",
    "- Each device then performs a matrix multiplication with its portion of the weight matrix and inputs.\n",
    "- Outputs from each device can be summed up element-wise (all-reduce) to form the final output.\n",
    "\n",
    "**Combined Column- and Row-wise Parallelism:**\n",
    "\n",
    "<img src=\"imgs/tp_col_row.png\" width=\"60%\" height=\"60%\">\n",
    "\n",
    "- This hybrid approach is particularly effective for model architectures that have sequential linear layers, such as MLPs or Transformers.\n",
    "- The output of a column-wise parallel layer is maintained in its distributed form and directly fed into a subsequent row-wise parallel layer. This strategy minimizes inter-device data transfers, optimizing computational efficiency."
   ]
  },
  {
   "cell_type": "markdown",
   "id": "64d77412-4f4e-4761-a6dd-cb8133dc43f6",
   "metadata": {},
   "source": [
    "## Batch Inference"
   ]
  },
  {
   "cell_type": "markdown",
   "id": "c0fa59d8-11a9-48e9-9702-022523e3d4d0",
   "metadata": {},
   "source": [
    "We will now combine the knowledge we accumulated around ray core, VLLM and add in ray data for building a batch inference pipeline using 2D parallelism, data parallel plus tensor parallel [[1]](https://github.com/vllm-project/vllm/blob/87b836ba777c07acf35da802be0aacbfc51da3b5/examples/offline_inference/distributed.py) [[2]](https://docs.ray.io/en/latest/data/batch_inference.html).\n",
    "\n",
    "Our example demonstrates parallelization configured for multiple GPUs within a single machine. However, the primary application of 2D parallelism is in multi-node environments, where it often involves applying data parallelism for inter-node, and tensor parallelism for intra-node. Reason being tensor parallelism necessitates blocking collective calls, making rapid communication crucial for maintaining high throughput.\n",
    "\n",
    "\n",
    "```\n",
    "  Data Parallelism (across nodes)\n",
    "  <----------------------------->\n",
    "\n",
    "Node 0              Node 1         \n",
    "+------------+     +------------+ \n",
    "|  GPU 0     |     |  GPU 0     | \n",
    "|    ↕       |     |    ↕       |    \n",
    "|  GPU 1     |     |  GPU 1     |     \n",
    "+------------+     +------------+     \n",
    "     ↕                   ↕          \n",
    "Tensor Parallel     Tensor Parallel\n",
    "\n",
    "Legend:\n",
    "↔ Data Parallelism: Horizontal scaling across nodes\n",
    "↕ Tensor Parallelism: Vertical scaling across all GPUs within a node\n",
    "\n",
    "```"
   ]
  },
  {
   "cell_type": "code",
   "execution_count": null,
   "id": "69ea6dc5-5f5f-49d3-b14c-c4e364d682c6",
   "metadata": {},
   "outputs": [],
   "source": [
    "# we pick a smaller model to quickly showcase the concept, it's very likely\n",
    "# a pure data parallel approach is faster for this model\n",
    "pretrained_model_name_or_path = \"Qwen/Qwen2.5-1.5B-Instruct\"\n",
    "\n",
    "# Set tensor parallelism per instance.\n",
    "tensor_parallel_size = 2\n",
    "\n",
    "# Set number of instances. Each instance will use tensor_parallel_size GPUs.\n",
    "num_instances = 4\n",
    "concurrency = num_instances // tensor_parallel_size\n",
    "\n",
    "prediction_path = \"vllm_prediction\"\n",
    "\n",
    "sampling_params = SamplingParams(n=1, temperature=0.6, max_tokens=512)"
   ]
  },
  {
   "cell_type": "code",
   "execution_count": 14,
   "id": "1e342962-488d-49dd-99e8-60ca313224d3",
   "metadata": {},
   "outputs": [
    {
     "name": "stderr",
     "output_type": "stream",
     "text": [
      "2025-06-17 00:37:19,523\tINFO util.py:154 -- Missing packages: ['ipywidgets']. Run `pip install -U ipywidgets`, then restart the notebook server for rich notebook output.\n"
     ]
    }
   ],
   "source": [
    "# Create a Ray Dataset from the list of dictionaries, so we can quickly mock some input data\n",
    "# in real world scenarios, read from actual data ray.data.read_parquet / ray.data.read_text\n",
    "data_dicts = [{\"messages\": messages}] * 32\n",
    "ds = ray.data.from_items(data_dicts).repartition(concurrency)"
   ]
  },
  {
   "cell_type": "code",
   "execution_count": 15,
   "id": "6f2a2803-4753-4c37-a1bd-9a44a456008b",
   "metadata": {},
   "outputs": [],
   "source": [
    "# Define a class for inference.\n",
    "# Use class to initialize the model just once in `__init__`\n",
    "# and re-use it for inference across multiple batches.\n",
    "class LLMPredictor:\n",
    "\n",
    "    def __init__(\n",
    "        self,\n",
    "        pretrained_model_name_or_path: str,\n",
    "        sampling_params: SamplingParams,\n",
    "        tensor_parallel_size: int = 1,\n",
    "    ):\n",
    "        self.llm = LLM(\n",
    "            pretrained_model_name_or_path,\n",
    "            tensor_parallel_size=tensor_parallel_size,\n",
    "            dtype=torch.bfloat16,\n",
    "        )\n",
    "        self.sampling_params = sampling_params\n",
    "\n",
    "    # Logic for inference on 1 batch of data.\n",
    "    def __call__(self, batch):\n",
    "        batch_messages = [text.tolist() for text in batch[\"messages\"]]    \n",
    "        request_outputs = self.llm.chat(batch_messages, self.sampling_params)\n",
    "\n",
    "        finished_reasons = []\n",
    "        generated_texts = []\n",
    "        for request_output in request_outputs:\n",
    "            # we assume only sampling 1 output\n",
    "            output = request_output.outputs[0]\n",
    "            generated_texts.append(output.text)\n",
    "            finished_reasons.append(output.finish_reason)\n",
    "    \n",
    "        return {\n",
    "            \"generated_texts\": generated_texts,\n",
    "            \"finished_reasons\": finished_reasons\n",
    "        }"
   ]
  },
  {
   "cell_type": "code",
   "execution_count": 16,
   "id": "ffbb6937-848f-4f56-a5af-a885abfa530e",
   "metadata": {},
   "outputs": [],
   "source": [
    "def scheduling_strategy_fn():\n",
    "    \"\"\"For tensor_parallel_size > 1, we need to create one bundle per tensor parallel worker\"\"\"\n",
    "    pg = placement_group(\n",
    "        [{\"CPU\": 1, \"GPU\": 1}] * tensor_parallel_size,\n",
    "        strategy=\"STRICT_PACK\"\n",
    "    )\n",
    "    return dict(\n",
    "        scheduling_strategy=PlacementGroupSchedulingStrategy(\n",
    "            pg, placement_group_capture_child_tasks=True)\n",
    "    )\n",
    "\n",
    "\n",
    "# define resources required for each actor\n",
    "resources_kwarg = {}\n",
    "if tensor_parallel_size == 1:\n",
    "    # For tensor_parallel_size == 1, we simply set num_gpus=1.\n",
    "    resources_kwarg[\"num_gpus\"] = 1\n",
    "else:\n",
    "    # Otherwise, we have to set num_gpus=0 and provide\n",
    "    # a function that will create a placement group for\n",
    "    # each instance.\n",
    "    resources_kwarg[\"num_gpus\"] = 0\n",
    "    resources_kwarg[\"ray_remote_args_fn\"] = scheduling_strategy_fn"
   ]
  },
  {
   "cell_type": "code",
   "execution_count": null,
   "id": "289e5d34-0989-45b4-b420-6e562b6ea651",
   "metadata": {},
   "outputs": [],
   "source": [
    "ds_prediction = ds.map_batches(\n",
    "    LLMPredictor,\n",
    "    concurrency=concurrency,\n",
    "    batch_size=4,\n",
    "    fn_constructor_kwargs={\n",
    "        \"pretrained_model_name_or_path\": pretrained_model_name_or_path,\n",
    "        \"tensor_parallel_size\": tensor_parallel_size,\n",
    "        \"sampling_params\": sampling_params,\n",
    "    },\n",
    "    **resources_kwarg,\n",
    ")\n",
    "ds_prediction.write_parquet(prediction_path)"
   ]
  },
  {
   "cell_type": "code",
   "execution_count": 22,
   "id": "d1098cbe-ffeb-430a-aa56-8d5e0586d7a5",
   "metadata": {},
   "outputs": [
    {
     "data": {
      "text/plain": [
       "array([['A large language model is a type of artificial intelligence (AI) system designed to understand and generate human language. These models are trained on vast amounts of text data, allowing them to learn patterns and relationships within language. They can be used for a variety of tasks, such as language translation, text summarization, question answering, and even creative writing. The ability of large language models to generate text that is contextually appropriate and coherent has made them popular in recent years, particularly for their ability to improve the quality of human-generated language.',\n",
       "        'stop'],\n",
       "       ['Large language models, also known as AI language models, are artificial intelligence systems that are designed to understand, generate, and respond to human language. These models are based on advanced algorithms and machine learning techniques that allow them to analyze vast amounts of text data and learn patterns and relationships between words and phrases.\\nOne of the key characteristics of large language models is their ability to generate human-like text that is coherent and contextually appropriate. This means that they can be used for a wide range of tasks, including natural language processing, language translation, text generation, and even chatbot development.\\nIn recent years, large language models have become increasingly popular due to their ability to process large amounts of text data quickly and accurately. They are used in a variety of industries, including tech, finance, healthcare, and more.',\n",
       "        'stop'],\n",
       "       ['A large language model is a type of artificial intelligence that is designed to generate human-like text based on the input it receives. These models are trained on vast amounts of text data, such as books, articles, and other written material, and are capable of generating coherent and contextually relevant responses to a wide range of prompts or questions. Large language models are used in a variety of applications, including language translation, chatbots, virtual assistants, and content generation.',\n",
       "        'stop']], dtype=object)"
      ]
     },
     "execution_count": 22,
     "metadata": {},
     "output_type": "execute_result"
    }
   ],
   "source": [
    "# reading some sample output to showcase valid\n",
    "# LLM inference result\n",
    "pd.read_parquet(prediction_path).iloc[:3].values"
   ]
  },
  {
   "cell_type": "markdown",
   "id": "0de8ed04-2417-4686-82d8-db7f50100bd7",
   "metadata": {},
   "source": [
    "# Reference"
   ]
  },
  {
   "cell_type": "markdown",
   "id": "70edf961-fd01-442f-8e8b-d0efa2e71917",
   "metadata": {},
   "source": [
    "- [[1]](https://github.com/vllm-project/vllm/blob/87b836ba777c07acf35da802be0aacbfc51da3b5/examples/offline_inference/distributed.py) VLLM offline batch inference example\n",
    "- [[2]](https://docs.ray.io/en/latest/data/batch_inference.html) End-to-end: Offline Batch Inference\n",
    "- [[3]](https://lightning.ai/docs/pytorch/stable/advanced/model_parallel/tp.html) PyTorch Lightning Tensor Parallelism"
   ]
  }
 ],
 "metadata": {
  "kernelspec": {
   "display_name": "Python 3 (ipykernel)",
   "language": "python",
   "name": "python3"
  },
  "language_info": {
   "codemirror_mode": {
    "name": "ipython",
    "version": 3
   },
   "file_extension": ".py",
   "mimetype": "text/x-python",
   "name": "python",
   "nbconvert_exporter": "python",
   "pygments_lexer": "ipython3",
   "version": "3.11.5"
  }
 },
 "nbformat": 4,
 "nbformat_minor": 5
}
